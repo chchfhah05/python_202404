{
 "cells": [
  {
   "cell_type": "markdown",
   "metadata": {},
   "source": [
    "##純值的運算##\n"
   ]
  },
  {
   "cell_type": "code",
   "execution_count": 2,
   "metadata": {},
   "outputs": [
    {
     "data": {
      "text/plain": [
       "25"
      ]
     },
     "execution_count": 2,
     "metadata": {},
     "output_type": "execute_result"
    }
   ],
   "source": [
    "5+10\n",
    "5.0+10\n",
    "int('15')+10"
   ]
  },
  {
   "cell_type": "code",
   "execution_count": 3,
   "metadata": {},
   "outputs": [],
   "source": [
    "num1=5+10\n",
    "num2=5.0+10\n",
    "num3=int('15')+10"
   ]
  },
  {
   "cell_type": "markdown",
   "metadata": {},
   "source": [
    "## 建立變數"
   ]
  },
  {
   "cell_type": "code",
   "execution_count": 7,
   "metadata": {},
   "outputs": [
    {
     "name": "stdout",
     "output_type": "stream",
     "text": [
      "15\n",
      "15.0\n",
      "25\n"
     ]
    }
   ],
   "source": [
    "print (num1)\n",
    "print (num2)\n",
    "print (num3)"
   ]
  },
  {
   "cell_type": "markdown",
   "metadata": {},
   "source": [
    "## 變數名稱\n",
    "- 變數名稱地1個字不可以是數字\n",
    "- 特別符號只可以使用_(底線)"
   ]
  },
  {
   "cell_type": "code",
   "execution_count": 8,
   "metadata": {},
   "outputs": [
    {
     "data": {
      "text/plain": [
       "15"
      ]
     },
     "execution_count": 8,
     "metadata": {},
     "output_type": "execute_result"
    }
   ],
   "source": [
    "_a1=5\n",
    "_a2=10\n",
    "_a3=_a1+_a2\n",
    "_a3"
   ]
  },
  {
   "cell_type": "markdown",
   "metadata": {},
   "source": [
    "## python使用的是動態型別"
   ]
  },
  {
   "cell_type": "code",
   "execution_count": 11,
   "metadata": {},
   "outputs": [
    {
     "name": "stdout",
     "output_type": "stream",
     "text": [
      "<class 'int'>\n",
      "<class 'float'>\n",
      "<class 'str'>\n",
      "<class 'bool'>\n"
     ]
    }
   ],
   "source": [
    "n=10\n",
    "print(type(n))\n",
    "n=10.0\n",
    "print(type(n))\n",
    "n='10.0'\n",
    "print(type(n))\n",
    "n=True\n",
    "print(type(n))"
   ]
  },
  {
   "cell_type": "markdown",
   "metadata": {},
   "source": [
    "## type hint"
   ]
  },
  {
   "cell_type": "code",
   "execution_count": 16,
   "metadata": {},
   "outputs": [
    {
     "name": "stdout",
     "output_type": "stream",
     "text": [
      "10\n",
      "10.0\n",
      "robert\n",
      "True\n"
     ]
    }
   ],
   "source": [
    "n:int = 10\n",
    "n1:float = 10.0\n",
    "name:str = 'robert'\n",
    "is_ok:bool = True\n",
    "\n",
    "print(n)\n",
    "print(n1)\n",
    "print(name)\n",
    "print(is_ok)"
   ]
  },
  {
   "cell_type": "markdown",
   "metadata": {},
   "source": [
    "## 字串和變數的整合"
   ]
  },
  {
   "cell_type": "code",
   "execution_count": 24,
   "metadata": {},
   "outputs": [
    {
     "name": "stdout",
     "output_type": "stream",
     "text": [
      "矩形的寬是24.5\n",
      "矩形的高是10.9\n",
      "矩形的面積是267.05\n",
      "矩形的寬是24.5,矩形的高是10.9,矩形的面積是267.05\n"
     ]
    }
   ],
   "source": [
    "width:float = 24.5\n",
    "height:float = 10.9\n",
    "area:float= width * height\n",
    "\n",
    "print('矩形的寬是' + str(width))\n",
    "print('矩形的高是' + str(height))\n",
    "print('矩形的面積是' + str(area))\n",
    "print('矩形的寬是' + str(width)+',矩形的高是' + str(height)+',矩形的面積是' + str(area))\n"
   ]
  },
  {
   "cell_type": "markdown",
   "metadata": {},
   "source": [
    "## 字串和變數的整合(使用字串插補)"
   ]
  },
  {
   "cell_type": "code",
   "execution_count": 26,
   "metadata": {},
   "outputs": [
    {
     "name": "stdout",
     "output_type": "stream",
     "text": [
      "矩形的寬是24.5\n",
      "矩形的高是10.9\n",
      "矩形的面積是267.05\n",
      "矩形的寬是24.5,矩形的高是10.9,矩形的面積是267.05\n"
     ]
    }
   ],
   "source": [
    "width:float=24.5\n",
    "height:float=10.9\n",
    "area:float=width*height\n",
    "\n",
    "print(f'矩形的寬是{width}')\n",
    "print(f'矩形的高是{height}')\n",
    "print(f'矩形的面積是{area}')\n",
    "print(f'矩形的寬是{width},矩形的高是{height},矩形的面積是{area}')"
   ]
  },
  {
   "cell_type": "markdown",
   "metadata": {},
   "source": []
  },
  {
   "cell_type": "code",
   "execution_count": 32,
   "metadata": {},
   "outputs": [
    {
     "name": "stdout",
     "output_type": "stream",
     "text": [
      "寬:12.0公分,高:2.0公分,面積:24.0平方公分\n"
     ]
    }
   ],
   "source": [
    "width:float=float (input('請輸入矩形寬:'))\n",
    "height:float=float (input('請輸入矩形高:'))\n",
    "area:float=width*height\n",
    "print(f'寬:{width}公分,高:{height}公分,面積:{area}平方公分')\n"
   ]
  }
 ],
 "metadata": {
  "kernelspec": {
   "display_name": "Python 3",
   "language": "python",
   "name": "python3"
  },
  "language_info": {
   "codemirror_mode": {
    "name": "ipython",
    "version": 3
   },
   "file_extension": ".py",
   "mimetype": "text/x-python",
   "name": "python",
   "nbconvert_exporter": "python",
   "pygments_lexer": "ipython3",
   "version": "3.10.14"
  }
 },
 "nbformat": 4,
 "nbformat_minor": 2
}
